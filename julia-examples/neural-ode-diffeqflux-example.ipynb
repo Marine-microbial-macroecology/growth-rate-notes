{
 "cells": [
  {
   "cell_type": "markdown",
   "id": "extra-bryan",
   "metadata": {},
   "source": [
    "Example using Lotka Volterra from https://diffeqflux.sciml.ai/stable/examples/optimization_ode/"
   ]
  },
  {
   "cell_type": "code",
   "execution_count": null,
   "id": "bigger-franchise",
   "metadata": {},
   "outputs": [],
   "source": [
    "using DifferentialEquations, Flux, Optim, DiffEqFlux, DiffEqSensitivity, Plots"
   ]
  },
  {
   "cell_type": "code",
   "execution_count": null,
   "id": "sealed-cambodia",
   "metadata": {
    "scrolled": true
   },
   "outputs": [],
   "source": [
    "function lotka_volterra!(du, u, p, t)\n",
    "  x, y = u\n",
    "  α, β, δ, γ = p\n",
    "  du[1] = dx = α*x - β*x*y\n",
    "  du[2] = dy = -δ*y + γ*x*y\n",
    "end\n",
    "\n",
    "# Initial condition\n",
    "u0 = [1.0, 1.0]\n",
    "\n",
    "# Simulation interval and intermediary points\n",
    "tspan = (0.0, 10.0)\n",
    "tsteps = 0.0:0.1:10.0\n",
    "\n",
    "# LV equation parameter. p = [α, β, δ, γ]\n",
    "p = [1.5, 1.0, 3.0, 1.0]\n",
    "\n",
    "# Setup the ODE problem, then solve\n",
    "prob = ODEProblem(lotka_volterra!, u0, tspan, p)\n",
    "sol = solve(prob, Tsit5())\n"
   ]
  },
  {
   "cell_type": "code",
   "execution_count": null,
   "id": "genuine-terrorist",
   "metadata": {},
   "outputs": [],
   "source": [
    "# Plot the solution\n",
    "using Plotly\n",
    "plot(sol)\n",
    "# savefig(\"LV_ode.png\")\n",
    "\n"
   ]
  },
  {
   "cell_type": "code",
   "execution_count": null,
   "id": "processed-watch",
   "metadata": {},
   "outputs": [],
   "source": [
    "function loss(p)\n",
    "  sol = solve(prob, Tsit5(), p=p, saveat = tsteps)\n",
    "  loss = sum(abs2, sol.-2)\n",
    "  return loss, sol\n",
    "end\n",
    "\n",
    "callback = function (p, l, pred)\n",
    "  # display(l)\n",
    "  plt = plot(pred, ylim = (0, 6))\n",
    "  # display(plt)\n",
    "  # Tell sciml_train to not halt the optimization. If return true, then\n",
    "  # optimization stops.\n",
    "  return false\n",
    "end\n",
    "\n",
    "result_ode = DiffEqFlux.sciml_train(loss, p,\n",
    "                                    ADAM(0.1),\n",
    "                                    cb = callback,\n",
    "                                    maxiters = 100)"
   ]
  },
  {
   "cell_type": "code",
   "execution_count": null,
   "id": "excess-consumption",
   "metadata": {},
   "outputs": [],
   "source": [
    "result_ode\n",
    "prob2 = ODEProblem(lotka_volterra!, u0, tspan, result_ode)\n",
    "sol2 = solve(prob2, Tsit5())\n",
    "plot(sol2)"
   ]
  },
  {
   "cell_type": "markdown",
   "id": "included-macedonia",
   "metadata": {},
   "source": [
    "\n",
    "Modify it to include initial conditions in optimization."
   ]
  },
  {
   "cell_type": "code",
   "execution_count": null,
   "id": "decreased-baptist",
   "metadata": {},
   "outputs": [],
   "source": [
    "prob = ODEProblem(lotka_volterra!, u0, tspan, result_ode)\n",
    "function loss(p1)\n",
    "  u0 = p1[1:2] \n",
    "    p = p1[3:end]\n",
    "  prob = ODEProblem(lotka_volterra!, u0, tspan, result_ode)\n",
    "  sol = solve(prob, Tsit5(), p=p, saveat = tsteps)\n",
    "  loss = sum(abs2, sol.-2)\n",
    "  return loss, sol\n",
    "end"
   ]
  },
  {
   "cell_type": "code",
   "execution_count": null,
   "id": "complex-burns",
   "metadata": {},
   "outputs": [],
   "source": [
    "result_ode = DiffEqFlux.sciml_train(loss, [1.0, 1.0, 1.5, 1.0, 3.0, 1.0],\n",
    "                                    ADAM(0.1),\n",
    "                                    maxiters = 100)"
   ]
  },
  {
   "cell_type": "markdown",
   "id": "humanitarian-nicaragua",
   "metadata": {},
   "source": [
    "Show solution"
   ]
  },
  {
   "cell_type": "code",
   "execution_count": null,
   "id": "built-madagascar",
   "metadata": {},
   "outputs": [],
   "source": [
    " prob = ODEProblem(lotka_volterra!, result_ode[1:2], tspan, result_ode)\n",
    "sol = solve(prob, Tsit5(), p=result_ode[3:end], saveat = tsteps)\n",
    "plot(sol)"
   ]
  },
  {
   "cell_type": "markdown",
   "id": "hungry-landscape",
   "metadata": {},
   "source": [
    "This is a nice optimization method for finding parameters that solve an ODE.\n",
    "But just get point estimate; no distribution.\n",
    "\n",
    "See Bayesian methods\n",
    "https://turing.ml/dev/tutorials/10-bayesiandiffeq/\n",
    "https://github.com/TuringLang/TuringTutorials/blob/master/10_diffeq.ipynb\n"
   ]
  },
  {
   "cell_type": "code",
   "execution_count": null,
   "id": "bigger-national",
   "metadata": {},
   "outputs": [],
   "source": [
    "using Turing, Distributions, DifferentialEquations \n",
    "\n",
    "# Import MCMCChain, Plots, and StatsPlots for visualizations and diagnostics.\n",
    "using MCMCChains, Plots, StatsPlots\n",
    "\n",
    "# Set a seed for reproducibility.\n",
    "using Random\n",
    "Random.seed!(14);\n",
    "\n",
    "# Disable Turing's progress meter for this tutorial.\n",
    "# Turing.turnprogress(false)\n",
    "\n",
    "using Logging\n",
    "Logging.disable_logging(Logging.Warn)\n",
    "# LogLevel(1001)\n"
   ]
  },
  {
   "cell_type": "code",
   "execution_count": null,
   "id": "divided-bangkok",
   "metadata": {},
   "outputs": [],
   "source": [
    "function lotka_volterra(du,u,p,t)\n",
    "  x, y = u\n",
    "  α, β, γ, δ  = p\n",
    "  du[1] = (α - β*y)x # dx =\n",
    "  du[2] = (δ*x - γ)y # dy = \n",
    "end\n",
    "p = [1.5, 1.0, 3.0, 1.0]\n",
    "u0 = [1.0,1.0]\n",
    "prob1 = ODEProblem(lotka_volterra,u0,(0.0,10.0),p)\n",
    "sol = solve(prob1,Tsit5())\n",
    "plot(sol)"
   ]
  },
  {
   "cell_type": "code",
   "execution_count": null,
   "id": "satellite-lancaster",
   "metadata": {},
   "outputs": [],
   "source": [
    "sol1 = solve(prob1,Tsit5(),saveat=0.1)\n",
    "odedata = Array(sol1) + 0.8 * randn(size(Array(sol1)))\n",
    "plot(sol1, alpha = 0.3, legend = false); Plots.scatter!(sol1.t, odedata')"
   ]
  },
  {
   "cell_type": "code",
   "execution_count": null,
   "id": "lonely-junior",
   "metadata": {},
   "outputs": [],
   "source": [
    "Turing.setadbackend(:forwarddiff)\n",
    "\n",
    "@model function fitlv(data, prob1)\n",
    "    σ ~ InverseGamma(2, 3) # ~ is the tilde character\n",
    "    α ~ truncated(Normal(1.5,0.5),0.5,2.5)\n",
    "    β ~ truncated(Normal(1.2,0.5),0,2)\n",
    "    γ ~ truncated(Normal(3.0,0.5),1,4)\n",
    "    δ ~ truncated(Normal(1.0,0.5),0,2)\n",
    "\n",
    "    p = [α,β,γ,δ]\n",
    "    prob = remake(prob1, p=p)\n",
    "    predicted = solve(prob,Tsit5(),saveat=0.1)\n",
    "\n",
    "    for i = 1:length(predicted)\n",
    "        data[:,i] ~ MvNormal(predicted[i], σ)\n",
    "    end\n",
    "end\n",
    "\n",
    "model = fitlv(odedata, prob1)\n",
    "\n",
    "# This next command runs 3 independent chains without using multithreading. \n",
    "chain = mapreduce(c -> sample(model, NUTS(.65),1000), chainscat, 1:3)"
   ]
  },
  {
   "cell_type": "code",
   "execution_count": null,
   "id": "radical-atlas",
   "metadata": {},
   "outputs": [],
   "source": [
    "plot(chain)\n",
    "pl = Plots.scatter(sol1.t, odedata');"
   ]
  },
  {
   "cell_type": "code",
   "execution_count": null,
   "id": "olympic-potential",
   "metadata": {},
   "outputs": [],
   "source": [
    "chain_array = Array(chain)\n",
    "for k in 1:300 \n",
    "    resol = solve(remake(prob1,p=chain_array[rand(1:1500), 1:4]),Tsit5(),saveat=0.1)\n",
    "    plot!(resol, alpha=0.1, color = \"#BBBBBB\", legend = false)\n",
    "end\n",
    "# display(pl)\n",
    "plot!(sol1, w=1, legend = false)"
   ]
  },
  {
   "cell_type": "markdown",
   "id": "leading-tower",
   "metadata": {},
   "source": [
    "Missing predator data\n"
   ]
  },
  {
   "cell_type": "code",
   "execution_count": null,
   "id": "fifty-testimony",
   "metadata": {},
   "outputs": [],
   "source": [
    "@model function fitlv2(data, prob1) # data should be a Vector\n",
    "    σ ~ InverseGamma(2, 3) # ~ is the tilde character\n",
    "    α ~ truncated(Normal(1.5,0.5),0.5,2.5)\n",
    "    β ~ truncated(Normal(1.2,0.5),0,2)\n",
    "    γ ~ truncated(Normal(3.0,0.5),1,4)\n",
    "    δ ~ truncated(Normal(1.0,0.5),0,2)\n",
    "\n",
    "    p = [α,β,γ,δ]\n",
    "    prob = remake(prob1, p=p)\n",
    "    predicted = solve(prob,Tsit5(),saveat=0.1)\n",
    "\n",
    "    for i = 1:length(predicted)\n",
    "        data[i] ~ Normal(predicted[i][2], σ) # predicted[i][2] is the data for y - a scalar, so we use Normal instead of MvNormal\n",
    "    end\n",
    "end\n",
    "\n",
    "model2 = fitlv2(odedata[2,:], prob1)"
   ]
  },
  {
   "cell_type": "code",
   "execution_count": null,
   "id": "upper-analysis",
   "metadata": {},
   "outputs": [],
   "source": [
    "Threads.nthreads()\n"
   ]
  },
  {
   "cell_type": "code",
   "execution_count": null,
   "id": "fabulous-original",
   "metadata": {},
   "outputs": [],
   "source": [
    "chain2 = sample(model2, NUTS(.45), MCMCThreads(), 5000, 3, progress=false)\n"
   ]
  },
  {
   "cell_type": "code",
   "execution_count": null,
   "id": "heated-registrar",
   "metadata": {},
   "outputs": [],
   "source": [
    "pl = Plots.scatter(sol1.t, odedata');\n",
    "chain_array2 = Array(chain2)\n",
    "for k in 1:300 \n",
    "    resol = solve(remake(prob1,p=chain_array2[rand(1:12000), 1:4]),Tsit5(),saveat=0.1) \n",
    "    # Note that due to a bug in AxisArray, the variables from the chain will be returned always in\n",
    "    # the order it is stored in the array, not by the specified order in the call - :α, :β, :γ, :δ\n",
    "    plot!(resol, alpha=0.1, color = \"#BBBBBB\", legend = false)\n",
    "end\n",
    "#display(pl)\n",
    "plot!(sol1, w=1, legend = false)"
   ]
  },
  {
   "cell_type": "code",
   "execution_count": null,
   "id": "remarkable-upgrade",
   "metadata": {},
   "outputs": [],
   "source": []
  }
 ],
 "metadata": {
  "kernelspec": {
   "display_name": "Julia 1.5.3",
   "language": "julia",
   "name": "julia-1.5"
  },
  "language_info": {
   "file_extension": ".jl",
   "mimetype": "application/julia",
   "name": "julia",
   "version": "1.5.3"
  }
 },
 "nbformat": 4,
 "nbformat_minor": 5
}
